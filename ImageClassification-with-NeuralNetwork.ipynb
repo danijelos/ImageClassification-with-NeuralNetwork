{
  "nbformat": 4,
  "nbformat_minor": 5,
  "metadata": {
    "kernelspec": {
      "display_name": "Python 3",
      "language": "python",
      "name": "python3"
    },
    "language_info": {
      "codemirror_mode": {
        "name": "ipython",
        "version": 3
      },
      "file_extension": ".py",
      "mimetype": "text/x-python",
      "name": "python",
      "nbconvert_exporter": "python",
      "pygments_lexer": "ipython3",
      "version": "3.8.5"
    },
    "colab": {
      "provenance": []
    },
    "accelerator": "GPU",
    "gpuClass": "standard",
    "widgets": {
      "application/vnd.jupyter.widget-state+json": {
        "c7fb13783dda4c3e9ddf66db0d54083b": {
          "model_module": "@jupyter-widgets/controls",
          "model_name": "HBoxModel",
          "model_module_version": "1.5.0",
          "state": {
            "_dom_classes": [],
            "_model_module": "@jupyter-widgets/controls",
            "_model_module_version": "1.5.0",
            "_model_name": "HBoxModel",
            "_view_count": null,
            "_view_module": "@jupyter-widgets/controls",
            "_view_module_version": "1.5.0",
            "_view_name": "HBoxView",
            "box_style": "",
            "children": [
              "IPY_MODEL_0136cf3c65014ef89456c7358e011a77",
              "IPY_MODEL_cbb88dd050ea44318ed56bbf114d8694",
              "IPY_MODEL_a2c120757abe405f902683670880c822"
            ],
            "layout": "IPY_MODEL_d1adf6e3c0eb4f2eb3f28761f2ffc23c"
          }
        },
        "0136cf3c65014ef89456c7358e011a77": {
          "model_module": "@jupyter-widgets/controls",
          "model_name": "HTMLModel",
          "model_module_version": "1.5.0",
          "state": {
            "_dom_classes": [],
            "_model_module": "@jupyter-widgets/controls",
            "_model_module_version": "1.5.0",
            "_model_name": "HTMLModel",
            "_view_count": null,
            "_view_module": "@jupyter-widgets/controls",
            "_view_module_version": "1.5.0",
            "_view_name": "HTMLView",
            "description": "",
            "description_tooltip": null,
            "layout": "IPY_MODEL_1776c16de5d54adea35c289fc367041e",
            "placeholder": "​",
            "style": "IPY_MODEL_66a2bdb603c840408ec25731cd4f7a01",
            "value": "100%"
          }
        },
        "cbb88dd050ea44318ed56bbf114d8694": {
          "model_module": "@jupyter-widgets/controls",
          "model_name": "FloatProgressModel",
          "model_module_version": "1.5.0",
          "state": {
            "_dom_classes": [],
            "_model_module": "@jupyter-widgets/controls",
            "_model_module_version": "1.5.0",
            "_model_name": "FloatProgressModel",
            "_view_count": null,
            "_view_module": "@jupyter-widgets/controls",
            "_view_module_version": "1.5.0",
            "_view_name": "ProgressView",
            "bar_style": "success",
            "description": "",
            "description_tooltip": null,
            "layout": "IPY_MODEL_57bf8c7bcc364a26bf434146ffada58b",
            "max": 40,
            "min": 0,
            "orientation": "horizontal",
            "style": "IPY_MODEL_9c104b0591f247c486e9cc44f7bf3f0c",
            "value": 40
          }
        },
        "a2c120757abe405f902683670880c822": {
          "model_module": "@jupyter-widgets/controls",
          "model_name": "HTMLModel",
          "model_module_version": "1.5.0",
          "state": {
            "_dom_classes": [],
            "_model_module": "@jupyter-widgets/controls",
            "_model_module_version": "1.5.0",
            "_model_name": "HTMLModel",
            "_view_count": null,
            "_view_module": "@jupyter-widgets/controls",
            "_view_module_version": "1.5.0",
            "_view_name": "HTMLView",
            "description": "",
            "description_tooltip": null,
            "layout": "IPY_MODEL_ccff5a405b6e4cab8c61398d5b8c7919",
            "placeholder": "​",
            "style": "IPY_MODEL_b6d05a3aa4d049beb9f6a4e38badfef5",
            "value": " 40/40 [06:52&lt;00:00, 10.34s/it]"
          }
        },
        "d1adf6e3c0eb4f2eb3f28761f2ffc23c": {
          "model_module": "@jupyter-widgets/base",
          "model_name": "LayoutModel",
          "model_module_version": "1.2.0",
          "state": {
            "_model_module": "@jupyter-widgets/base",
            "_model_module_version": "1.2.0",
            "_model_name": "LayoutModel",
            "_view_count": null,
            "_view_module": "@jupyter-widgets/base",
            "_view_module_version": "1.2.0",
            "_view_name": "LayoutView",
            "align_content": null,
            "align_items": null,
            "align_self": null,
            "border": null,
            "bottom": null,
            "display": null,
            "flex": null,
            "flex_flow": null,
            "grid_area": null,
            "grid_auto_columns": null,
            "grid_auto_flow": null,
            "grid_auto_rows": null,
            "grid_column": null,
            "grid_gap": null,
            "grid_row": null,
            "grid_template_areas": null,
            "grid_template_columns": null,
            "grid_template_rows": null,
            "height": null,
            "justify_content": null,
            "justify_items": null,
            "left": null,
            "margin": null,
            "max_height": null,
            "max_width": null,
            "min_height": null,
            "min_width": null,
            "object_fit": null,
            "object_position": null,
            "order": null,
            "overflow": null,
            "overflow_x": null,
            "overflow_y": null,
            "padding": null,
            "right": null,
            "top": null,
            "visibility": null,
            "width": null
          }
        },
        "1776c16de5d54adea35c289fc367041e": {
          "model_module": "@jupyter-widgets/base",
          "model_name": "LayoutModel",
          "model_module_version": "1.2.0",
          "state": {
            "_model_module": "@jupyter-widgets/base",
            "_model_module_version": "1.2.0",
            "_model_name": "LayoutModel",
            "_view_count": null,
            "_view_module": "@jupyter-widgets/base",
            "_view_module_version": "1.2.0",
            "_view_name": "LayoutView",
            "align_content": null,
            "align_items": null,
            "align_self": null,
            "border": null,
            "bottom": null,
            "display": null,
            "flex": null,
            "flex_flow": null,
            "grid_area": null,
            "grid_auto_columns": null,
            "grid_auto_flow": null,
            "grid_auto_rows": null,
            "grid_column": null,
            "grid_gap": null,
            "grid_row": null,
            "grid_template_areas": null,
            "grid_template_columns": null,
            "grid_template_rows": null,
            "height": null,
            "justify_content": null,
            "justify_items": null,
            "left": null,
            "margin": null,
            "max_height": null,
            "max_width": null,
            "min_height": null,
            "min_width": null,
            "object_fit": null,
            "object_position": null,
            "order": null,
            "overflow": null,
            "overflow_x": null,
            "overflow_y": null,
            "padding": null,
            "right": null,
            "top": null,
            "visibility": null,
            "width": null
          }
        },
        "66a2bdb603c840408ec25731cd4f7a01": {
          "model_module": "@jupyter-widgets/controls",
          "model_name": "DescriptionStyleModel",
          "model_module_version": "1.5.0",
          "state": {
            "_model_module": "@jupyter-widgets/controls",
            "_model_module_version": "1.5.0",
            "_model_name": "DescriptionStyleModel",
            "_view_count": null,
            "_view_module": "@jupyter-widgets/base",
            "_view_module_version": "1.2.0",
            "_view_name": "StyleView",
            "description_width": ""
          }
        },
        "57bf8c7bcc364a26bf434146ffada58b": {
          "model_module": "@jupyter-widgets/base",
          "model_name": "LayoutModel",
          "model_module_version": "1.2.0",
          "state": {
            "_model_module": "@jupyter-widgets/base",
            "_model_module_version": "1.2.0",
            "_model_name": "LayoutModel",
            "_view_count": null,
            "_view_module": "@jupyter-widgets/base",
            "_view_module_version": "1.2.0",
            "_view_name": "LayoutView",
            "align_content": null,
            "align_items": null,
            "align_self": null,
            "border": null,
            "bottom": null,
            "display": null,
            "flex": null,
            "flex_flow": null,
            "grid_area": null,
            "grid_auto_columns": null,
            "grid_auto_flow": null,
            "grid_auto_rows": null,
            "grid_column": null,
            "grid_gap": null,
            "grid_row": null,
            "grid_template_areas": null,
            "grid_template_columns": null,
            "grid_template_rows": null,
            "height": null,
            "justify_content": null,
            "justify_items": null,
            "left": null,
            "margin": null,
            "max_height": null,
            "max_width": null,
            "min_height": null,
            "min_width": null,
            "object_fit": null,
            "object_position": null,
            "order": null,
            "overflow": null,
            "overflow_x": null,
            "overflow_y": null,
            "padding": null,
            "right": null,
            "top": null,
            "visibility": null,
            "width": null
          }
        },
        "9c104b0591f247c486e9cc44f7bf3f0c": {
          "model_module": "@jupyter-widgets/controls",
          "model_name": "ProgressStyleModel",
          "model_module_version": "1.5.0",
          "state": {
            "_model_module": "@jupyter-widgets/controls",
            "_model_module_version": "1.5.0",
            "_model_name": "ProgressStyleModel",
            "_view_count": null,
            "_view_module": "@jupyter-widgets/base",
            "_view_module_version": "1.2.0",
            "_view_name": "StyleView",
            "bar_color": null,
            "description_width": ""
          }
        },
        "ccff5a405b6e4cab8c61398d5b8c7919": {
          "model_module": "@jupyter-widgets/base",
          "model_name": "LayoutModel",
          "model_module_version": "1.2.0",
          "state": {
            "_model_module": "@jupyter-widgets/base",
            "_model_module_version": "1.2.0",
            "_model_name": "LayoutModel",
            "_view_count": null,
            "_view_module": "@jupyter-widgets/base",
            "_view_module_version": "1.2.0",
            "_view_name": "LayoutView",
            "align_content": null,
            "align_items": null,
            "align_self": null,
            "border": null,
            "bottom": null,
            "display": null,
            "flex": null,
            "flex_flow": null,
            "grid_area": null,
            "grid_auto_columns": null,
            "grid_auto_flow": null,
            "grid_auto_rows": null,
            "grid_column": null,
            "grid_gap": null,
            "grid_row": null,
            "grid_template_areas": null,
            "grid_template_columns": null,
            "grid_template_rows": null,
            "height": null,
            "justify_content": null,
            "justify_items": null,
            "left": null,
            "margin": null,
            "max_height": null,
            "max_width": null,
            "min_height": null,
            "min_width": null,
            "object_fit": null,
            "object_position": null,
            "order": null,
            "overflow": null,
            "overflow_x": null,
            "overflow_y": null,
            "padding": null,
            "right": null,
            "top": null,
            "visibility": null,
            "width": null
          }
        },
        "b6d05a3aa4d049beb9f6a4e38badfef5": {
          "model_module": "@jupyter-widgets/controls",
          "model_name": "DescriptionStyleModel",
          "model_module_version": "1.5.0",
          "state": {
            "_model_module": "@jupyter-widgets/controls",
            "_model_module_version": "1.5.0",
            "_model_name": "DescriptionStyleModel",
            "_view_count": null,
            "_view_module": "@jupyter-widgets/base",
            "_view_module_version": "1.2.0",
            "_view_name": "StyleView",
            "description_width": ""
          }
        },
        "b0649734b58549b5a045b54bcde7eae5": {
          "model_module": "@jupyter-widgets/controls",
          "model_name": "HBoxModel",
          "model_module_version": "1.5.0",
          "state": {
            "_dom_classes": [],
            "_model_module": "@jupyter-widgets/controls",
            "_model_module_version": "1.5.0",
            "_model_name": "HBoxModel",
            "_view_count": null,
            "_view_module": "@jupyter-widgets/controls",
            "_view_module_version": "1.5.0",
            "_view_name": "HBoxView",
            "box_style": "",
            "children": [
              "IPY_MODEL_7cdcaa26fac44ba39ee566102276fb91",
              "IPY_MODEL_72b25430e0f44ee583b1fedd65bd16d0",
              "IPY_MODEL_7911bb9ad8d34394bf8b3c12f4dfc23a"
            ],
            "layout": "IPY_MODEL_3a5ce87818dc4bd18d43e5819bc6c36b"
          }
        },
        "7cdcaa26fac44ba39ee566102276fb91": {
          "model_module": "@jupyter-widgets/controls",
          "model_name": "HTMLModel",
          "model_module_version": "1.5.0",
          "state": {
            "_dom_classes": [],
            "_model_module": "@jupyter-widgets/controls",
            "_model_module_version": "1.5.0",
            "_model_name": "HTMLModel",
            "_view_count": null,
            "_view_module": "@jupyter-widgets/controls",
            "_view_module_version": "1.5.0",
            "_view_name": "HTMLView",
            "description": "",
            "description_tooltip": null,
            "layout": "IPY_MODEL_914d9182934044d2b66ae611990c5796",
            "placeholder": "​",
            "style": "IPY_MODEL_0763c683eeb845f8b102929734c3c6a1",
            "value": "100%"
          }
        },
        "72b25430e0f44ee583b1fedd65bd16d0": {
          "model_module": "@jupyter-widgets/controls",
          "model_name": "FloatProgressModel",
          "model_module_version": "1.5.0",
          "state": {
            "_dom_classes": [],
            "_model_module": "@jupyter-widgets/controls",
            "_model_module_version": "1.5.0",
            "_model_name": "FloatProgressModel",
            "_view_count": null,
            "_view_module": "@jupyter-widgets/controls",
            "_view_module_version": "1.5.0",
            "_view_name": "ProgressView",
            "bar_style": "success",
            "description": "",
            "description_tooltip": null,
            "layout": "IPY_MODEL_0c120c24643047c5a52578c56675590e",
            "max": 9,
            "min": 0,
            "orientation": "horizontal",
            "style": "IPY_MODEL_ac847600f25447518d7b73a4c88b5b24",
            "value": 9
          }
        },
        "7911bb9ad8d34394bf8b3c12f4dfc23a": {
          "model_module": "@jupyter-widgets/controls",
          "model_name": "HTMLModel",
          "model_module_version": "1.5.0",
          "state": {
            "_dom_classes": [],
            "_model_module": "@jupyter-widgets/controls",
            "_model_module_version": "1.5.0",
            "_model_name": "HTMLModel",
            "_view_count": null,
            "_view_module": "@jupyter-widgets/controls",
            "_view_module_version": "1.5.0",
            "_view_name": "HTMLView",
            "description": "",
            "description_tooltip": null,
            "layout": "IPY_MODEL_0ae3fb6b44c84096bc6b7bcc5e8db826",
            "placeholder": "​",
            "style": "IPY_MODEL_6c61e91c4b00487bbbf72f83f92c860f",
            "value": " 9/9 [02:06&lt;00:00, 14.17s/it]"
          }
        },
        "3a5ce87818dc4bd18d43e5819bc6c36b": {
          "model_module": "@jupyter-widgets/base",
          "model_name": "LayoutModel",
          "model_module_version": "1.2.0",
          "state": {
            "_model_module": "@jupyter-widgets/base",
            "_model_module_version": "1.2.0",
            "_model_name": "LayoutModel",
            "_view_count": null,
            "_view_module": "@jupyter-widgets/base",
            "_view_module_version": "1.2.0",
            "_view_name": "LayoutView",
            "align_content": null,
            "align_items": null,
            "align_self": null,
            "border": null,
            "bottom": null,
            "display": null,
            "flex": null,
            "flex_flow": null,
            "grid_area": null,
            "grid_auto_columns": null,
            "grid_auto_flow": null,
            "grid_auto_rows": null,
            "grid_column": null,
            "grid_gap": null,
            "grid_row": null,
            "grid_template_areas": null,
            "grid_template_columns": null,
            "grid_template_rows": null,
            "height": null,
            "justify_content": null,
            "justify_items": null,
            "left": null,
            "margin": null,
            "max_height": null,
            "max_width": null,
            "min_height": null,
            "min_width": null,
            "object_fit": null,
            "object_position": null,
            "order": null,
            "overflow": null,
            "overflow_x": null,
            "overflow_y": null,
            "padding": null,
            "right": null,
            "top": null,
            "visibility": null,
            "width": null
          }
        },
        "914d9182934044d2b66ae611990c5796": {
          "model_module": "@jupyter-widgets/base",
          "model_name": "LayoutModel",
          "model_module_version": "1.2.0",
          "state": {
            "_model_module": "@jupyter-widgets/base",
            "_model_module_version": "1.2.0",
            "_model_name": "LayoutModel",
            "_view_count": null,
            "_view_module": "@jupyter-widgets/base",
            "_view_module_version": "1.2.0",
            "_view_name": "LayoutView",
            "align_content": null,
            "align_items": null,
            "align_self": null,
            "border": null,
            "bottom": null,
            "display": null,
            "flex": null,
            "flex_flow": null,
            "grid_area": null,
            "grid_auto_columns": null,
            "grid_auto_flow": null,
            "grid_auto_rows": null,
            "grid_column": null,
            "grid_gap": null,
            "grid_row": null,
            "grid_template_areas": null,
            "grid_template_columns": null,
            "grid_template_rows": null,
            "height": null,
            "justify_content": null,
            "justify_items": null,
            "left": null,
            "margin": null,
            "max_height": null,
            "max_width": null,
            "min_height": null,
            "min_width": null,
            "object_fit": null,
            "object_position": null,
            "order": null,
            "overflow": null,
            "overflow_x": null,
            "overflow_y": null,
            "padding": null,
            "right": null,
            "top": null,
            "visibility": null,
            "width": null
          }
        },
        "0763c683eeb845f8b102929734c3c6a1": {
          "model_module": "@jupyter-widgets/controls",
          "model_name": "DescriptionStyleModel",
          "model_module_version": "1.5.0",
          "state": {
            "_model_module": "@jupyter-widgets/controls",
            "_model_module_version": "1.5.0",
            "_model_name": "DescriptionStyleModel",
            "_view_count": null,
            "_view_module": "@jupyter-widgets/base",
            "_view_module_version": "1.2.0",
            "_view_name": "StyleView",
            "description_width": ""
          }
        },
        "0c120c24643047c5a52578c56675590e": {
          "model_module": "@jupyter-widgets/base",
          "model_name": "LayoutModel",
          "model_module_version": "1.2.0",
          "state": {
            "_model_module": "@jupyter-widgets/base",
            "_model_module_version": "1.2.0",
            "_model_name": "LayoutModel",
            "_view_count": null,
            "_view_module": "@jupyter-widgets/base",
            "_view_module_version": "1.2.0",
            "_view_name": "LayoutView",
            "align_content": null,
            "align_items": null,
            "align_self": null,
            "border": null,
            "bottom": null,
            "display": null,
            "flex": null,
            "flex_flow": null,
            "grid_area": null,
            "grid_auto_columns": null,
            "grid_auto_flow": null,
            "grid_auto_rows": null,
            "grid_column": null,
            "grid_gap": null,
            "grid_row": null,
            "grid_template_areas": null,
            "grid_template_columns": null,
            "grid_template_rows": null,
            "height": null,
            "justify_content": null,
            "justify_items": null,
            "left": null,
            "margin": null,
            "max_height": null,
            "max_width": null,
            "min_height": null,
            "min_width": null,
            "object_fit": null,
            "object_position": null,
            "order": null,
            "overflow": null,
            "overflow_x": null,
            "overflow_y": null,
            "padding": null,
            "right": null,
            "top": null,
            "visibility": null,
            "width": null
          }
        },
        "ac847600f25447518d7b73a4c88b5b24": {
          "model_module": "@jupyter-widgets/controls",
          "model_name": "ProgressStyleModel",
          "model_module_version": "1.5.0",
          "state": {
            "_model_module": "@jupyter-widgets/controls",
            "_model_module_version": "1.5.0",
            "_model_name": "ProgressStyleModel",
            "_view_count": null,
            "_view_module": "@jupyter-widgets/base",
            "_view_module_version": "1.2.0",
            "_view_name": "StyleView",
            "bar_color": null,
            "description_width": ""
          }
        },
        "0ae3fb6b44c84096bc6b7bcc5e8db826": {
          "model_module": "@jupyter-widgets/base",
          "model_name": "LayoutModel",
          "model_module_version": "1.2.0",
          "state": {
            "_model_module": "@jupyter-widgets/base",
            "_model_module_version": "1.2.0",
            "_model_name": "LayoutModel",
            "_view_count": null,
            "_view_module": "@jupyter-widgets/base",
            "_view_module_version": "1.2.0",
            "_view_name": "LayoutView",
            "align_content": null,
            "align_items": null,
            "align_self": null,
            "border": null,
            "bottom": null,
            "display": null,
            "flex": null,
            "flex_flow": null,
            "grid_area": null,
            "grid_auto_columns": null,
            "grid_auto_flow": null,
            "grid_auto_rows": null,
            "grid_column": null,
            "grid_gap": null,
            "grid_row": null,
            "grid_template_areas": null,
            "grid_template_columns": null,
            "grid_template_rows": null,
            "height": null,
            "justify_content": null,
            "justify_items": null,
            "left": null,
            "margin": null,
            "max_height": null,
            "max_width": null,
            "min_height": null,
            "min_width": null,
            "object_fit": null,
            "object_position": null,
            "order": null,
            "overflow": null,
            "overflow_x": null,
            "overflow_y": null,
            "padding": null,
            "right": null,
            "top": null,
            "visibility": null,
            "width": null
          }
        },
        "6c61e91c4b00487bbbf72f83f92c860f": {
          "model_module": "@jupyter-widgets/controls",
          "model_name": "DescriptionStyleModel",
          "model_module_version": "1.5.0",
          "state": {
            "_model_module": "@jupyter-widgets/controls",
            "_model_module_version": "1.5.0",
            "_model_name": "DescriptionStyleModel",
            "_view_count": null,
            "_view_module": "@jupyter-widgets/base",
            "_view_module_version": "1.2.0",
            "_view_name": "StyleView",
            "description_width": ""
          }
        }
      }
    }
  },
  "cells": [
    {
      "cell_type": "markdown",
      "metadata": {
        "id": "bright-offer"
      },
      "source": [
        "# Exercise 01 Notebook -  Image Classification with a Neural Network\n",
        "\n",
        "In this exercise you will implement a neural network from scratch using pytorch. We train the model on the fashion MNIST dataset. The Goal is to find a good architecture and hyperparameters to achieve the highest test score possible!"
      ],
      "id": "bright-offer"
    },
    {
      "cell_type": "markdown",
      "metadata": {
        "id": "multiple-panama"
      },
      "source": [
        "We'll use the Fashion-MNIST data set during this exercise. The Fashion-MNIST dataset consists of 60,000 training examples and a test set of 10,000 examples. Each example is a 28x28 grayscale image, associated with a label from 10 different classes:\n",
        "\n",
        "    0: \"T-Shirt\",\n",
        "    1: \"Trouser\",\n",
        "    2: \"Pullover\",\n",
        "    3: \"Dress\",\n",
        "    4: \"Coat\",\n",
        "    5: \"Sandal\",\n",
        "    6: \"Shirt\",\n",
        "    7: \"Sneaker\",\n",
        "    8: \"Bag\",\n",
        "    9: \"Ankle Boot\""
      ],
      "id": "multiple-panama"
    },
    {
      "cell_type": "markdown",
      "metadata": {
        "id": "turkish-bacteria"
      },
      "source": [
        "![Fashion MNIST Long](https://raw.githubusercontent.com/jmelsbach/ai-im/main/img/fashion-mnist_long.png)"
      ],
      "id": "turkish-bacteria"
    },
    {
      "cell_type": "code",
      "metadata": {
        "id": "respiratory-timber"
      },
      "source": [
        "# Imports\n",
        "import torch\n",
        "import torch.nn as nn\n",
        "from torch.utils.data import DataLoader\n",
        "import torchvision\n",
        "import torchvision.transforms as transforms\n",
        "import matplotlib.pyplot as plt\n",
        "\n",
        "# Library for printing out progress bars\n",
        "# This can be useful in the training loop\n",
        "# The use is optional\n",
        "from tqdm.notebook import tqdm"
      ],
      "id": "respiratory-timber",
      "execution_count": null,
      "outputs": []
    },
    {
      "cell_type": "code",
      "source": [
        "device = torch.device('cuda' if torch.cuda.is_available() else 'cpu')\n",
        "device"
      ],
      "metadata": {
        "colab": {
          "base_uri": "https://localhost:8080/"
        },
        "id": "Z7zIhYhN34rh",
        "outputId": "f81596e5-1198-43e8-a981-9aae60607f46"
      },
      "id": "Z7zIhYhN34rh",
      "execution_count": null,
      "outputs": [
        {
          "output_type": "execute_result",
          "data": {
            "text/plain": [
              "device(type='cuda')"
            ]
          },
          "metadata": {},
          "execution_count": 2
        }
      ]
    },
    {
      "cell_type": "markdown",
      "metadata": {
        "id": "assisted-palmer"
      },
      "source": [
        "## 1. Download the dataset and create a dataset for training, validation and test data.\n",
        "You can learn how to download the training dataset [here](https://pytorch.org/vision/stable/datasets.html#fashion-mnist). Use the documentation to download the training and test set of the Fashion-MNIST Dataset. Out of the box the images of the dataset have the PIL format but we need them as `torch.Tensors` to feed them in our neural network later on. <br>\n",
        "**Hint**: Use a transform to convert the PIL to the Tensor format. You can learn about transformations [here](https://pytorch.org/vision/stable/transforms.html)."
      ],
      "id": "assisted-palmer"
    },
    {
      "cell_type": "code",
      "source": [
        "toTensor = transforms.ToTensor()"
      ],
      "metadata": {
        "id": "7149h7Ogpvz2"
      },
      "id": "7149h7Ogpvz2",
      "execution_count": null,
      "outputs": []
    },
    {
      "cell_type": "code",
      "source": [
        "train_data = torchvision.datasets.FashionMNIST('sample_data',train=True, transform = toTensor, download = True)\n",
        "train_data"
      ],
      "metadata": {
        "colab": {
          "base_uri": "https://localhost:8080/"
        },
        "id": "PjvG4Jcxl6Co",
        "outputId": "691bdc0e-362d-4846-f068-43731c217d4f"
      },
      "id": "PjvG4Jcxl6Co",
      "execution_count": null,
      "outputs": [
        {
          "output_type": "stream",
          "name": "stdout",
          "text": [
            "Downloading http://fashion-mnist.s3-website.eu-central-1.amazonaws.com/train-images-idx3-ubyte.gz\n",
            "Downloading http://fashion-mnist.s3-website.eu-central-1.amazonaws.com/train-images-idx3-ubyte.gz to sample_data/FashionMNIST/raw/train-images-idx3-ubyte.gz\n"
          ]
        },
        {
          "output_type": "stream",
          "name": "stderr",
          "text": [
            "100%|██████████| 26421880/26421880 [00:02<00:00, 12656771.12it/s]\n"
          ]
        },
        {
          "output_type": "stream",
          "name": "stdout",
          "text": [
            "Extracting sample_data/FashionMNIST/raw/train-images-idx3-ubyte.gz to sample_data/FashionMNIST/raw\n",
            "\n",
            "Downloading http://fashion-mnist.s3-website.eu-central-1.amazonaws.com/train-labels-idx1-ubyte.gz\n",
            "Downloading http://fashion-mnist.s3-website.eu-central-1.amazonaws.com/train-labels-idx1-ubyte.gz to sample_data/FashionMNIST/raw/train-labels-idx1-ubyte.gz\n"
          ]
        },
        {
          "output_type": "stream",
          "name": "stderr",
          "text": [
            "100%|██████████| 29515/29515 [00:00<00:00, 207869.97it/s]\n"
          ]
        },
        {
          "output_type": "stream",
          "name": "stdout",
          "text": [
            "Extracting sample_data/FashionMNIST/raw/train-labels-idx1-ubyte.gz to sample_data/FashionMNIST/raw\n",
            "\n",
            "Downloading http://fashion-mnist.s3-website.eu-central-1.amazonaws.com/t10k-images-idx3-ubyte.gz\n",
            "Downloading http://fashion-mnist.s3-website.eu-central-1.amazonaws.com/t10k-images-idx3-ubyte.gz to sample_data/FashionMNIST/raw/t10k-images-idx3-ubyte.gz\n"
          ]
        },
        {
          "output_type": "stream",
          "name": "stderr",
          "text": [
            "100%|██████████| 4422102/4422102 [00:01<00:00, 3854913.78it/s]\n"
          ]
        },
        {
          "output_type": "stream",
          "name": "stdout",
          "text": [
            "Extracting sample_data/FashionMNIST/raw/t10k-images-idx3-ubyte.gz to sample_data/FashionMNIST/raw\n",
            "\n",
            "Downloading http://fashion-mnist.s3-website.eu-central-1.amazonaws.com/t10k-labels-idx1-ubyte.gz\n",
            "Downloading http://fashion-mnist.s3-website.eu-central-1.amazonaws.com/t10k-labels-idx1-ubyte.gz to sample_data/FashionMNIST/raw/t10k-labels-idx1-ubyte.gz\n"
          ]
        },
        {
          "output_type": "stream",
          "name": "stderr",
          "text": [
            "100%|██████████| 5148/5148 [00:00<00:00, 6464753.59it/s]"
          ]
        },
        {
          "output_type": "stream",
          "name": "stdout",
          "text": [
            "Extracting sample_data/FashionMNIST/raw/t10k-labels-idx1-ubyte.gz to sample_data/FashionMNIST/raw\n",
            "\n"
          ]
        },
        {
          "output_type": "stream",
          "name": "stderr",
          "text": [
            "\n"
          ]
        },
        {
          "output_type": "execute_result",
          "data": {
            "text/plain": [
              "Dataset FashionMNIST\n",
              "    Number of datapoints: 60000\n",
              "    Root location: sample_data\n",
              "    Split: Train\n",
              "    StandardTransform\n",
              "Transform: ToTensor()"
            ]
          },
          "metadata": {},
          "execution_count": 4
        }
      ]
    },
    {
      "cell_type": "code",
      "source": [
        "test_data = torchvision.datasets.FashionMNIST(\"sample_data\", train=False, transform = toTensor)\n",
        "test_data"
      ],
      "metadata": {
        "id": "HTGcVfS6l6G3",
        "colab": {
          "base_uri": "https://localhost:8080/"
        },
        "outputId": "de5aa04d-fe92-44f2-eab8-b4d0685c8230"
      },
      "id": "HTGcVfS6l6G3",
      "execution_count": null,
      "outputs": [
        {
          "output_type": "execute_result",
          "data": {
            "text/plain": [
              "Dataset FashionMNIST\n",
              "    Number of datapoints: 10000\n",
              "    Root location: sample_data\n",
              "    Split: Test\n",
              "    StandardTransform\n",
              "Transform: ToTensor()"
            ]
          },
          "metadata": {},
          "execution_count": 5
        }
      ]
    },
    {
      "cell_type": "markdown",
      "metadata": {
        "id": "pressed-chambers"
      },
      "source": [
        "## 2. Explore and understand the dataset.\n",
        "If you successfully created the dataset objects, try to explore the data.\n",
        "Answer the following questions:\n",
        "* How many training examples do we have?\n",
        "* How many test examples do we have?\n",
        "* What type of datastructure is each datapoint?\n",
        "* Get the shape of the a training image. What does each dimensions mean?\n",
        "    * You notice that the shape is a little bit awkward. We'll deal with this later in the `foward()` method of our neural network\n",
        "* Do we need to normalize the data?\n",
        "* Plot a random image and the corresponding label from the dataset with the help of the `matplotlib`library."
      ],
      "id": "pressed-chambers"
    },
    {
      "cell_type": "code",
      "metadata": {
        "id": "incomplete-focus",
        "colab": {
          "base_uri": "https://localhost:8080/"
        },
        "outputId": "4ec7a1f5-1174-44a1-9f85-5be71666613c"
      },
      "source": [
        "# How many training examples do we have?\n",
        "len(train_data)"
      ],
      "id": "incomplete-focus",
      "execution_count": null,
      "outputs": [
        {
          "output_type": "execute_result",
          "data": {
            "text/plain": [
              "60000"
            ]
          },
          "metadata": {},
          "execution_count": 193
        }
      ]
    },
    {
      "cell_type": "code",
      "source": [
        "# How many test examples do we have?\n",
        "len(test_data)"
      ],
      "metadata": {
        "colab": {
          "base_uri": "https://localhost:8080/"
        },
        "id": "k-LC00OnrdL3",
        "outputId": "f45ced63-55e6-4aa4-c716-d4351693a917"
      },
      "id": "k-LC00OnrdL3",
      "execution_count": null,
      "outputs": [
        {
          "output_type": "execute_result",
          "data": {
            "text/plain": [
              "10000"
            ]
          },
          "metadata": {},
          "execution_count": 194
        }
      ]
    },
    {
      "cell_type": "code",
      "source": [
        "# What type of datastructure is each datapoint?\n",
        "\n",
        "print(\"Each datapoint contains a \"+ str(type(train_data[0])) + \".\")\n",
        "print(\"The picture as a  \"+ str(type(train_data[0][0])) + \".\")\n",
        "print(\"And the label as a \"+ str(type(train_data[0][0])) + \".\")"
      ],
      "metadata": {
        "id": "UyqrT28frdSx",
        "colab": {
          "base_uri": "https://localhost:8080/"
        },
        "outputId": "33efc752-f667-438e-ab7c-80d3b9c3dcc9"
      },
      "id": "UyqrT28frdSx",
      "execution_count": null,
      "outputs": [
        {
          "output_type": "stream",
          "name": "stdout",
          "text": [
            "Each datapoint contains a <class 'tuple'>.\n",
            "The picture as a  <class 'torch.Tensor'>.\n",
            "And the label as a <class 'torch.Tensor'>.\n"
          ]
        }
      ]
    },
    {
      "cell_type": "code",
      "source": [
        "# Get the shape of the a training image. What does each dimensions mean?\n",
        "#   You notice that the shape is a little bit awkward. We'll deal with this later in the foward() method of our neural network\n",
        "\n",
        "print(\"We have 28x28 pixels and the color channel being in the first position: \" + str(train_data[0][0].shape))"
      ],
      "metadata": {
        "id": "G_68ULvYreR1",
        "colab": {
          "base_uri": "https://localhost:8080/"
        },
        "outputId": "b2dd0ff7-eb21-42c9-a6ba-80d2b36f80dc"
      },
      "id": "G_68ULvYreR1",
      "execution_count": null,
      "outputs": [
        {
          "output_type": "stream",
          "name": "stdout",
          "text": [
            "We have 28x28 pixels and the color channel being in the first position: torch.Size([1, 28, 28])\n"
          ]
        }
      ]
    },
    {
      "cell_type": "code",
      "source": [
        "# Do we need to normalize the data?\n",
        "\n",
        "\n",
        "train_dl = DataLoader(train_data)\n",
        "max = 0\n",
        "min = 1\n",
        "for x, _ in train_dl:\n",
        "  max = torch.max(x) if torch.max(x) > max else max\n",
        "  min = torch.min(x) if torch.min(x) < min else min\n",
        "\n",
        "print(\"As all values are between 0 and 1 we do not have to normalize the data.\")\n",
        "print(f\"Min value: {min} \\nMax value {max}\")\n"
      ],
      "metadata": {
        "id": "mFYB4G2Arejg",
        "colab": {
          "base_uri": "https://localhost:8080/"
        },
        "outputId": "1a5cff18-b42e-4c22-851b-2e099282c56d"
      },
      "id": "mFYB4G2Arejg",
      "execution_count": null,
      "outputs": [
        {
          "output_type": "stream",
          "name": "stdout",
          "text": [
            "As all values are between 0 and 1 we do not have to normalize the data.\n",
            "Min value: 0.0 \n",
            "Max value 1.0\n"
          ]
        }
      ]
    },
    {
      "cell_type": "code",
      "source": [
        "# Plot a random image and the corresponding label from the dataset with the help of the matplotliblibrary.\n",
        "def show_image(k):\n",
        "  x = k[0]\n",
        "  x = x.reshape(28,28)\n",
        "  plt.imshow(x, cmap='gray')\n",
        "  plt.title(\"Label: \" + str(k[1]) + \" (\" + dic[k[1]] + \")\")\n",
        "import numpy"
      ],
      "metadata": {
        "id": "tw74rR3Mre5u"
      },
      "id": "tw74rR3Mre5u",
      "execution_count": null,
      "outputs": []
    },
    {
      "cell_type": "code",
      "source": [
        "dic = {0: \"T-Shirt\", 1: \"Trouser\", 2: \"Pullover\", 3: \"Dress\", 4: \"Coat\", 5: \"Sandal\", 6: \"Shirt\", 7: \"Sneaker\", 8: \"Bag\", 9: \"Ankle Boot\"}"
      ],
      "metadata": {
        "id": "H652aUytQEYz"
      },
      "id": "H652aUytQEYz",
      "execution_count": null,
      "outputs": []
    },
    {
      "cell_type": "code",
      "source": [
        "random_index = int(numpy.random.random()*len(train_data))\n",
        "show_image(train_data[random_index])"
      ],
      "metadata": {
        "colab": {
          "base_uri": "https://localhost:8080/",
          "height": 452
        },
        "id": "YQBDlcxfxvh7",
        "outputId": "0969df1e-d72a-4b15-cc8b-223fd1bece79"
      },
      "id": "YQBDlcxfxvh7",
      "execution_count": null,
      "outputs": [
        {
          "output_type": "display_data",
          "data": {
            "text/plain": [
              "<Figure size 640x480 with 1 Axes>"
            ],
            "image/png": "[encoded data removed]"
          },
          "metadata": {}
        }
      ]
    },
    {
      "cell_type": "markdown",
      "metadata": {
        "id": "resident-toner"
      },
      "source": [
        "## 3. Create DataLoader for training, validation and test set."
      ],
      "id": "resident-toner"
    },
    {
      "cell_type": "markdown",
      "metadata": {
        "id": "imposed-ticket"
      },
      "source": [
        "We do not have a validation set, yet. Split the `train_data` with the help of the `random_split`. Look at the documentation of the random_split function [here](https://pytorch.org/docs/stable/data.html#torch.utils.data.random_split). Split the data in a 80:20 train/val ratio.\n",
        "\n",
        "\n"
      ],
      "id": "imposed-ticket"
    },
    {
      "cell_type": "code",
      "metadata": {
        "id": "rotary-bench"
      },
      "source": [
        "trainSize = int(0.8*len(train_data))\n",
        "valSize = len(train_data) - trainSize\n",
        "train, val = torch.utils.data.random_split(train_data, [trainSize, valSize], torch.Generator().manual_seed(42))"
      ],
      "id": "rotary-bench",
      "execution_count": null,
      "outputs": []
    },
    {
      "cell_type": "markdown",
      "metadata": {
        "id": "verbal-encyclopedia"
      },
      "source": [
        "* Create a `torch.utils.data.DataLoader` for train, val and test data.\n",
        "* Use a batch size of 32.\n",
        "* Don't forget to shuffle the data!\n",
        "\n",
        "If you don't know why we need a train, val, and a test set. Read [this article](https://machinelearningmastery.com/difference-test-validation-datasets/)"
      ],
      "id": "verbal-encyclopedia"
    },
    {
      "cell_type": "code",
      "metadata": {
        "id": "electoral-fever"
      },
      "source": [
        "train_dl = DataLoader(train, batch_size=32, shuffle=True)\n",
        "val_dl   = DataLoader(val, batch_size=32, shuffle=True)\n",
        "test_dl  = DataLoader(test_data, batch_size=32, shuffle=True)"
      ],
      "id": "electoral-fever",
      "execution_count": null,
      "outputs": []
    },
    {
      "cell_type": "markdown",
      "metadata": {
        "id": "parallel-surname"
      },
      "source": [
        "## 4. Create a Neural Network Architecture that fits the problem."
      ],
      "id": "parallel-surname"
    },
    {
      "cell_type": "markdown",
      "metadata": {
        "id": "technological-price"
      },
      "source": [
        "Create a Neural Network with at least to hidden layers. Choose the correct input and output size suitable for the problem."
      ],
      "id": "technological-price"
    },
    {
      "cell_type": "code",
      "source": [
        "import torch.nn.functional as F"
      ],
      "metadata": {
        "id": "BzjVUkcDDGKD"
      },
      "id": "BzjVUkcDDGKD",
      "execution_count": null,
      "outputs": []
    },
    {
      "cell_type": "code",
      "source": [
        "class NeuralNetwork(nn.Module):\n",
        "\n",
        "    def __init__(self):\n",
        "        super().__init__()\n",
        "        self.l1 = nn.Linear(28*28, 512)\n",
        "        self.l2 = nn.Linear(512, 256)\n",
        "        self.l3 = nn.Linear(256, 128)\n",
        "        self.l4 = nn.Linear(128, 10)\n",
        "        # dropout for regularization and preventing the co-adaptation of neurons\n",
        "        self.dropout = nn.Dropout(0.2)\n",
        "\n",
        "    def forward(self, X):\n",
        "      # This flattens the tensor array\n",
        "      X = X.squeeze(1)\n",
        "      X = X.reshape(X.size(0), -1)\n",
        "      X = self.dropout(F.relu(self.l1(X)))\n",
        "      X = self.dropout(F.relu(self.l2(X)))\n",
        "      X = self.dropout(F.relu(self.l3(X)))\n",
        "      X = F.softmax(self.l4(X), dim = 1)\n",
        "      return X"
      ],
      "metadata": {
        "id": "lQFfeSsv-AY9"
      },
      "id": "lQFfeSsv-AY9",
      "execution_count": null,
      "outputs": []
    },
    {
      "cell_type": "markdown",
      "metadata": {
        "id": "literary-appreciation"
      },
      "source": [
        "Instantiate the `NeuralNetwork`"
      ],
      "id": "literary-appreciation"
    },
    {
      "cell_type": "code",
      "metadata": {
        "id": "alpha-wheel",
        "colab": {
          "base_uri": "https://localhost:8080/"
        },
        "outputId": "14b312d2-197c-442a-8e41-7290867f7675"
      },
      "source": [
        "model = NeuralNetwork()\n",
        "# execute on gpu if available\n",
        "model.to(device)"
      ],
      "id": "alpha-wheel",
      "execution_count": null,
      "outputs": [
        {
          "output_type": "execute_result",
          "data": {
            "text/plain": [
              "NeuralNetwork(\n",
              "  (l1): Linear(in_features=784, out_features=512, bias=True)\n",
              "  (l2): Linear(in_features=512, out_features=256, bias=True)\n",
              "  (l3): Linear(in_features=256, out_features=128, bias=True)\n",
              "  (l4): Linear(in_features=128, out_features=10, bias=True)\n",
              "  (dropout): Dropout(p=0.2, inplace=False)\n",
              ")"
            ]
          },
          "metadata": {},
          "execution_count": 24
        }
      ]
    },
    {
      "cell_type": "markdown",
      "metadata": {
        "id": "fleet-journalism"
      },
      "source": [
        "## 5. Set the hyperparameters and choose a suitable loss function."
      ],
      "id": "fleet-journalism"
    },
    {
      "cell_type": "markdown",
      "metadata": {
        "id": "duplicate-monster"
      },
      "source": [
        "Instantiate an optimizer and a loss function. Try different optimizers and pick a suitable loss function for the data. You can look up how to create an optimizer [here](https://pytorch.org/docs/stable/optim.html)."
      ],
      "id": "duplicate-monster"
    },
    {
      "cell_type": "code",
      "metadata": {
        "id": "hispanic-invitation"
      },
      "source": [
        "epochs = 40\n",
        "lr = 0.025\n",
        "optimizer = torch.optim.SGD(model.parameters(), lr=lr)\n",
        "loss_func = nn.CrossEntropyLoss()"
      ],
      "id": "hispanic-invitation",
      "execution_count": null,
      "outputs": []
    },
    {
      "cell_type": "markdown",
      "metadata": {
        "id": "brown-drain"
      },
      "source": [
        "## 6. Create a training loop"
      ],
      "id": "brown-drain"
    },
    {
      "cell_type": "markdown",
      "metadata": {
        "id": "operational-mitchell"
      },
      "source": [
        "The trainig loop should receive the `net`, `train_dl`, `val_dl`, `epochs`, `optimizer`, and `loss_func`.\n",
        "Print out the average loss and the accuarcy on both the train **and** validation data."
      ],
      "id": "operational-mitchell"
    },
    {
      "cell_type": "code",
      "source": [
        "def train(net, train_dl, val_dl , epochs, optimizer, loss_func):\n",
        "      # start train mode\n",
        "      net.train()\n",
        "      # define arrays for evaluation\n",
        "      train_losses, valid_losses = [], []\n",
        "      train_accs, valid_accs = [], []\n",
        "\n",
        "      # loop over all epochs\n",
        "      for epoch in tqdm(range(epochs)):\n",
        "        # reset evaluation variables\n",
        "        train_loss, valid_loss = 0, 0\n",
        "        train_acc, valid_acc = 0, 0\n",
        "\n",
        "        # training loop\n",
        "        for x,y in train_dl:\n",
        "          # train on gpu\n",
        "          x, y = x.to(device), y.to(device)\n",
        "          # reset optimizer\n",
        "          optimizer.zero_grad()\n",
        "          # predict\n",
        "          y_hat = net(x)\n",
        "          # calculate loss and adjust weights\n",
        "          loss = loss_func(y_hat, y)\n",
        "          loss.backward()\n",
        "          optimizer.step()\n",
        "          # calculate evaluation kpis\n",
        "          train_loss += loss*x.size(0)\n",
        "          _, pred = torch.max(y_hat, 1)\n",
        "          train_acc += torch.sum(torch.eq(pred, y)).item()\n",
        "\n",
        "        # valiadation loop\n",
        "        for x,y in val_dl:\n",
        "          # train on gpu\n",
        "          x, y = x.to(device), y.to(device)\n",
        "          # predict on trained model\n",
        "          y_hat = net(x)\n",
        "          # calculate evaluation kpis\n",
        "          loss = loss_func(y_hat, y)\n",
        "          valid_loss += loss*x.size(0)\n",
        "          _, pred = torch.max(y_hat, 1)\n",
        "          valid_acc += torch.sum(torch.eq(pred, y)).item()\n",
        "\n",
        "        # calculations for evaluations\n",
        "        train_loss = train_loss/ len(train_dl.sampler)\n",
        "        train_acc = train_acc/ len(train_dl.sampler)\n",
        "        valid_loss = valid_loss/ len(val_dl.sampler)\n",
        "        valid_acc = valid_acc/ len(val_dl.sampler)\n",
        "        train_losses.append(train_loss)\n",
        "        valid_losses.append(valid_loss)\n",
        "\n",
        "        print(f'Epoch: {epoch+1} \\tTraining Loss: {train_loss:.6f} \\tTraining Acc: {train_acc:.6f} \\tValidation Loss: {valid_loss:.6f} \\tValidation Acc: {valid_acc:.6f}')\n",
        "\n",
        "      # return losses for plotting\n",
        "      return train_losses, valid_losses\n"
      ],
      "metadata": {
        "id": "Nu1hxAnhCe3H"
      },
      "id": "Nu1hxAnhCe3H",
      "execution_count": null,
      "outputs": []
    },
    {
      "cell_type": "markdown",
      "metadata": {
        "id": "decimal-provision"
      },
      "source": [
        "## 7. Train the model"
      ],
      "id": "decimal-provision"
    },
    {
      "cell_type": "code",
      "metadata": {
        "id": "Q09oJ5HxC8YL"
      },
      "source": [
        "# To get a better idea of how well your model performs\n",
        "# you should implement an accuracy function that to check how well your model performs\n",
        "# After each epoch you should check the model performance on the validation data"
      ],
      "id": "Q09oJ5HxC8YL",
      "execution_count": null,
      "outputs": []
    },
    {
      "cell_type": "code",
      "source": [
        "train_dl = DataLoader(train_data, batch_size=32, shuffle=True)"
      ],
      "metadata": {
        "id": "HNlHiHMd6MVB"
      },
      "id": "HNlHiHMd6MVB",
      "execution_count": null,
      "outputs": []
    },
    {
      "cell_type": "code",
      "metadata": {
        "id": "mobile-router",
        "colab": {
          "base_uri": "https://localhost:8080/",
          "height": 743,
          "referenced_widgets": [
            "c7fb13783dda4c3e9ddf66db0d54083b",
            "0136cf3c65014ef89456c7358e011a77",
            "cbb88dd050ea44318ed56bbf114d8694",
            "a2c120757abe405f902683670880c822",
            "d1adf6e3c0eb4f2eb3f28761f2ffc23c",
            "1776c16de5d54adea35c289fc367041e",
            "66a2bdb603c840408ec25731cd4f7a01",
            "57bf8c7bcc364a26bf434146ffada58b",
            "9c104b0591f247c486e9cc44f7bf3f0c",
            "ccff5a405b6e4cab8c61398d5b8c7919",
            "b6d05a3aa4d049beb9f6a4e38badfef5"
          ]
        },
        "outputId": "1f03f9f4-2679-4a4e-fb06-25fd72d941d0"
      },
      "source": [
        "# Execute the train function and train the model.\n",
        "train_losses, valid_losses = train(model, train_dl, val_dl, epochs, optimizer, loss_func)"
      ],
      "id": "mobile-router",
      "execution_count": null,
      "outputs": [
        {
          "output_type": "display_data",
          "data": {
            "text/plain": [
              "  0%|          | 0/40 [00:00<?, ?it/s]"
            ],
            "application/vnd.jupyter.widget-view+json": {
              "version_major": 2,
              "version_minor": 0,
              "model_id": "c7fb13783dda4c3e9ddf66db0d54083b"
            }
          },
          "metadata": {}
        },
        {
          "output_type": "stream",
          "name": "stdout",
          "text": [
            "Epoch: 1 \tTraining Loss: 2.292021 \tTraining Acc: 0.161833 \tValidation Loss: 2.241569 \tValidation Acc: 0.200000\n",
            "Epoch: 2 \tTraining Loss: 2.065026 \tTraining Acc: 0.411687 \tValidation Loss: 1.888104 \tValidation Acc: 0.603417\n",
            "Epoch: 3 \tTraining Loss: 1.828243 \tTraining Acc: 0.646604 \tValidation Loss: 1.788376 \tValidation Acc: 0.692167\n",
            "Epoch: 4 \tTraining Loss: 1.753624 \tTraining Acc: 0.727625 \tValidation Loss: 1.730217 \tValidation Acc: 0.747083\n",
            "Epoch: 5 \tTraining Loss: 1.713260 \tTraining Acc: 0.758958 \tValidation Loss: 1.713309 \tValidation Acc: 0.756417\n",
            "Epoch: 6 \tTraining Loss: 1.692963 \tTraining Acc: 0.775271 \tValidation Loss: 1.691086 \tValidation Acc: 0.775250\n",
            "Epoch: 7 \tTraining Loss: 1.683070 \tTraining Acc: 0.784000 \tValidation Loss: 1.681527 \tValidation Acc: 0.784500\n",
            "Epoch: 8 \tTraining Loss: 1.674648 \tTraining Acc: 0.791562 \tValidation Loss: 1.677731 \tValidation Acc: 0.787500\n",
            "Epoch: 9 \tTraining Loss: 1.670299 \tTraining Acc: 0.795646 \tValidation Loss: 1.672957 \tValidation Acc: 0.791417\n",
            "Epoch: 10 \tTraining Loss: 1.664601 \tTraining Acc: 0.800250 \tValidation Loss: 1.668251 \tValidation Acc: 0.796833\n",
            "Epoch: 11 \tTraining Loss: 1.661566 \tTraining Acc: 0.803333 \tValidation Loss: 1.665572 \tValidation Acc: 0.797583\n",
            "Epoch: 12 \tTraining Loss: 1.658071 \tTraining Acc: 0.806458 \tValidation Loss: 1.665564 \tValidation Acc: 0.797917\n",
            "Epoch: 13 \tTraining Loss: 1.654918 \tTraining Acc: 0.809604 \tValidation Loss: 1.660795 \tValidation Acc: 0.802000\n",
            "Epoch: 14 \tTraining Loss: 1.652391 \tTraining Acc: 0.811479 \tValidation Loss: 1.660068 \tValidation Acc: 0.803167\n",
            "Epoch: 15 \tTraining Loss: 1.649972 \tTraining Acc: 0.814104 \tValidation Loss: 1.655269 \tValidation Acc: 0.806917\n",
            "Epoch: 16 \tTraining Loss: 1.648062 \tTraining Acc: 0.815750 \tValidation Loss: 1.654345 \tValidation Acc: 0.808833\n",
            "Epoch: 17 \tTraining Loss: 1.645466 \tTraining Acc: 0.818125 \tValidation Loss: 1.652860 \tValidation Acc: 0.811083\n",
            "Epoch: 18 \tTraining Loss: 1.644957 \tTraining Acc: 0.818458 \tValidation Loss: 1.650853 \tValidation Acc: 0.812500\n",
            "Epoch: 19 \tTraining Loss: 1.642640 \tTraining Acc: 0.820771 \tValidation Loss: 1.648771 \tValidation Acc: 0.813417\n",
            "Epoch: 20 \tTraining Loss: 1.640181 \tTraining Acc: 0.823375 \tValidation Loss: 1.647560 \tValidation Acc: 0.816500\n",
            "Epoch: 21 \tTraining Loss: 1.639411 \tTraining Acc: 0.823833 \tValidation Loss: 1.647659 \tValidation Acc: 0.814583\n",
            "Epoch: 22 \tTraining Loss: 1.638728 \tTraining Acc: 0.824438 \tValidation Loss: 1.647521 \tValidation Acc: 0.814917\n",
            "Epoch: 23 \tTraining Loss: 1.636566 \tTraining Acc: 0.826146 \tValidation Loss: 1.646290 \tValidation Acc: 0.817250\n",
            "Epoch: 24 \tTraining Loss: 1.635570 \tTraining Acc: 0.827542 \tValidation Loss: 1.645929 \tValidation Acc: 0.815583\n",
            "Epoch: 25 \tTraining Loss: 1.634298 \tTraining Acc: 0.828313 \tValidation Loss: 1.643664 \tValidation Acc: 0.818917\n",
            "Epoch: 26 \tTraining Loss: 1.633175 \tTraining Acc: 0.830083 \tValidation Loss: 1.643750 \tValidation Acc: 0.819417\n",
            "Epoch: 27 \tTraining Loss: 1.631965 \tTraining Acc: 0.830875 \tValidation Loss: 1.642325 \tValidation Acc: 0.820333\n",
            "Epoch: 28 \tTraining Loss: 1.631784 \tTraining Acc: 0.830958 \tValidation Loss: 1.642985 \tValidation Acc: 0.819500\n",
            "Epoch: 29 \tTraining Loss: 1.630467 \tTraining Acc: 0.832333 \tValidation Loss: 1.642905 \tValidation Acc: 0.819500\n",
            "Epoch: 30 \tTraining Loss: 1.628730 \tTraining Acc: 0.834542 \tValidation Loss: 1.643475 \tValidation Acc: 0.819667\n",
            "Epoch: 31 \tTraining Loss: 1.627809 \tTraining Acc: 0.835063 \tValidation Loss: 1.638328 \tValidation Acc: 0.823333\n",
            "Epoch: 32 \tTraining Loss: 1.626907 \tTraining Acc: 0.836021 \tValidation Loss: 1.636570 \tValidation Acc: 0.825417\n",
            "Epoch: 33 \tTraining Loss: 1.626336 \tTraining Acc: 0.836125 \tValidation Loss: 1.635439 \tValidation Acc: 0.827417\n",
            "Epoch: 34 \tTraining Loss: 1.624751 \tTraining Acc: 0.838292 \tValidation Loss: 1.638278 \tValidation Acc: 0.824250\n",
            "Epoch: 35 \tTraining Loss: 1.625037 \tTraining Acc: 0.837812 \tValidation Loss: 1.638368 \tValidation Acc: 0.824333\n",
            "Epoch: 36 \tTraining Loss: 1.624798 \tTraining Acc: 0.838042 \tValidation Loss: 1.634530 \tValidation Acc: 0.827500\n",
            "Epoch: 37 \tTraining Loss: 1.623641 \tTraining Acc: 0.838479 \tValidation Loss: 1.635360 \tValidation Acc: 0.826167\n",
            "Epoch: 38 \tTraining Loss: 1.622770 \tTraining Acc: 0.839521 \tValidation Loss: 1.634474 \tValidation Acc: 0.826417\n",
            "Epoch: 39 \tTraining Loss: 1.622056 \tTraining Acc: 0.840688 \tValidation Loss: 1.636714 \tValidation Acc: 0.825083\n",
            "Epoch: 40 \tTraining Loss: 1.621444 \tTraining Acc: 0.841208 \tValidation Loss: 1.632059 \tValidation Acc: 0.830167\n"
          ]
        }
      ]
    },
    {
      "cell_type": "code",
      "source": [
        "func = lambda x : x.cpu().item()\n",
        "\n",
        "plt.plot(list(map(func, train_losses)), label='Train Loss')\n",
        "plt.plot(list(map(func, valid_losses)), label='Valid Loss')\n",
        "plt.legend()"
      ],
      "metadata": {
        "colab": {
          "base_uri": "https://localhost:8080/",
          "height": 447
        },
        "id": "Xt1zMyj4poMy",
        "outputId": "e469ceae-fc33-453e-dbb0-64610ad2d837"
      },
      "id": "Xt1zMyj4poMy",
      "execution_count": null,
      "outputs": [
        {
          "output_type": "execute_result",
          "data": {
            "text/plain": [
              "<matplotlib.legend.Legend at 0x7f7196542f40>"
            ]
          },
          "metadata": {},
          "execution_count": 28
        },
        {
          "output_type": "display_data",
          "data": {
            "text/plain": [
              "<Figure size 640x480 with 1 Axes>"
            ],
            "image/png": "[encoded data removed]"
          },
          "metadata": {}
        }
      ]
    },
    {
      "cell_type": "markdown",
      "source": [
        "If your training loop is working and your model is learning, try different architectures (e.g, more/less layers, more/less neurons, different optimizer, different learning rates) and evaluate it on the validation set.\n",
        "\n",
        "\n",
        "At the very end take the model with the best performance on the validation data and evaluate it on the test set."
      ],
      "metadata": {
        "id": "qu7uTDlmTNJU"
      },
      "id": "qu7uTDlmTNJU"
    },
    {
      "cell_type": "code",
      "source": [
        "# Evaluate on Test set.\n",
        "# Do this only once at the very end. Don't cheat!"
      ],
      "metadata": {
        "id": "Jklgk1khTasM"
      },
      "id": "Jklgk1khTasM",
      "execution_count": null,
      "outputs": []
    },
    {
      "cell_type": "code",
      "source": [
        "model_new = NeuralNetwork()\n",
        "# execute on gpu if available\n",
        "model_new.to(device)"
      ],
      "metadata": {
        "colab": {
          "base_uri": "https://localhost:8080/"
        },
        "id": "d1VAHHH03LXG",
        "outputId": "fc46f399-6c0b-4deb-c0bc-85bae5e4a187"
      },
      "id": "d1VAHHH03LXG",
      "execution_count": null,
      "outputs": [
        {
          "output_type": "execute_result",
          "data": {
            "text/plain": [
              "NeuralNetwork(\n",
              "  (l1): Linear(in_features=784, out_features=512, bias=True)\n",
              "  (l2): Linear(in_features=512, out_features=256, bias=True)\n",
              "  (l3): Linear(in_features=256, out_features=128, bias=True)\n",
              "  (l4): Linear(in_features=128, out_features=10, bias=True)\n",
              "  (dropout): Dropout(p=0.2, inplace=False)\n",
              ")"
            ]
          },
          "metadata": {},
          "execution_count": 39
        }
      ]
    },
    {
      "cell_type": "code",
      "source": [
        "epochs = 9\n",
        "lr = 0.025\n",
        "optimizer = torch.optim.SGD(model_new.parameters(), lr=lr)\n",
        "loss_func = nn.CrossEntropyLoss()"
      ],
      "metadata": {
        "id": "5mjCAIrK5oBS"
      },
      "id": "5mjCAIrK5oBS",
      "execution_count": null,
      "outputs": []
    },
    {
      "cell_type": "code",
      "source": [
        "train_losses, valid_losses = train(model_new, train_dl, val_dl, epochs, optimizer, loss_func)"
      ],
      "metadata": {
        "colab": {
          "base_uri": "https://localhost:8080/",
          "height": 205,
          "referenced_widgets": [
            "b0649734b58549b5a045b54bcde7eae5",
            "7cdcaa26fac44ba39ee566102276fb91",
            "72b25430e0f44ee583b1fedd65bd16d0",
            "7911bb9ad8d34394bf8b3c12f4dfc23a",
            "3a5ce87818dc4bd18d43e5819bc6c36b",
            "914d9182934044d2b66ae611990c5796",
            "0763c683eeb845f8b102929734c3c6a1",
            "0c120c24643047c5a52578c56675590e",
            "ac847600f25447518d7b73a4c88b5b24",
            "0ae3fb6b44c84096bc6b7bcc5e8db826",
            "6c61e91c4b00487bbbf72f83f92c860f"
          ]
        },
        "id": "eLjsTHni3Tb3",
        "outputId": "77aff24f-ea44-49cb-ad0a-8fa0f7f6b8f5"
      },
      "id": "eLjsTHni3Tb3",
      "execution_count": null,
      "outputs": [
        {
          "output_type": "display_data",
          "data": {
            "text/plain": [
              "  0%|          | 0/9 [00:00<?, ?it/s]"
            ],
            "application/vnd.jupyter.widget-view+json": {
              "version_major": 2,
              "version_minor": 0,
              "model_id": "b0649734b58549b5a045b54bcde7eae5"
            }
          },
          "metadata": {}
        },
        {
          "output_type": "stream",
          "name": "stdout",
          "text": [
            "Epoch: 1 \tTraining Loss: 1.665556 \tTraining Acc: 0.798933 \tValidation Loss: 1.670547 \tValidation Acc: 0.792917\n",
            "Epoch: 2 \tTraining Loss: 1.660850 \tTraining Acc: 0.803400 \tValidation Loss: 1.662859 \tValidation Acc: 0.801333\n",
            "Epoch: 3 \tTraining Loss: 1.657268 \tTraining Acc: 0.806700 \tValidation Loss: 1.656729 \tValidation Acc: 0.806583\n",
            "Epoch: 4 \tTraining Loss: 1.654127 \tTraining Acc: 0.809967 \tValidation Loss: 1.656366 \tValidation Acc: 0.806750\n",
            "Epoch: 5 \tTraining Loss: 1.651258 \tTraining Acc: 0.812517 \tValidation Loss: 1.649568 \tValidation Acc: 0.813250\n",
            "Epoch: 6 \tTraining Loss: 1.648431 \tTraining Acc: 0.814933 \tValidation Loss: 1.649323 \tValidation Acc: 0.813917\n",
            "Epoch: 7 \tTraining Loss: 1.646998 \tTraining Acc: 0.816550 \tValidation Loss: 1.650055 \tValidation Acc: 0.814250\n",
            "Epoch: 8 \tTraining Loss: 1.644244 \tTraining Acc: 0.819333 \tValidation Loss: 1.647209 \tValidation Acc: 0.816833\n",
            "Epoch: 9 \tTraining Loss: 1.642205 \tTraining Acc: 0.820900 \tValidation Loss: 1.642275 \tValidation Acc: 0.821583\n"
          ]
        }
      ]
    },
    {
      "cell_type": "code",
      "source": [
        "import numpy as np\n",
        "\n",
        "model_new.eval()\n",
        "\n",
        "test_loss = 0\n",
        "test_acc = 0\n",
        "\n",
        "for x,y in test_dl:\n",
        "  x, y = x.to(device), y.to(device)\n",
        "  y_hat = model_new(x)\n",
        "  loss = loss_func(y_hat, y)\n",
        "  test_loss += loss*x.size(0)\n",
        "\n",
        "  _, pred = torch.max(y_hat, 1)\n",
        "  test_acc += torch.sum(torch.eq(pred, y)).item()\n",
        "\n",
        "test_loss = test_loss/ len(test_dl.sampler)\n",
        "test_acc = test_acc/ len(test_dl.sampler)\n",
        "\n",
        "print(f\"Test Loss: {test_loss:.6f} \\tTest Acc: {test_acc:.6f}\")"
      ],
      "metadata": {
        "id": "dhgzyj7rlLiU"
      },
      "id": "dhgzyj7rlLiU",
      "execution_count": null,
      "outputs": []
    }
  ]
}